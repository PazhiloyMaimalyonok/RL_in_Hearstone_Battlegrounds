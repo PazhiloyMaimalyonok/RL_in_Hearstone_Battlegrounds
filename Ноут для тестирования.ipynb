{
 "cells": [
  {
   "cell_type": "code",
   "execution_count": 5,
   "metadata": {},
   "outputs": [],
   "source": [
    "# тесты\n",
    "import copy\n",
    "import random\n",
    "from game_module import Game\n",
    "import numpy as np\n",
    "import pandas as pd\n",
    "from card_module import Card\n",
    "from mechanics_module import Mechanics, PlayedCardBuffMechanic"
   ]
  },
  {
   "attachments": {},
   "cell_type": "markdown",
   "metadata": {},
   "source": [
    "Тестирую инициализацию карт через excel"
   ]
  },
  {
   "cell_type": "code",
   "execution_count": 10,
   "metadata": {},
   "outputs": [
    {
     "data": {
      "text/html": [
       "<div>\n",
       "<style scoped>\n",
       "    .dataframe tbody tr th:only-of-type {\n",
       "        vertical-align: middle;\n",
       "    }\n",
       "\n",
       "    .dataframe tbody tr th {\n",
       "        vertical-align: top;\n",
       "    }\n",
       "\n",
       "    .dataframe thead th {\n",
       "        text-align: right;\n",
       "    }\n",
       "</style>\n",
       "<table border=\"1\" class=\"dataframe\">\n",
       "  <thead>\n",
       "    <tr style=\"text-align: right;\">\n",
       "      <th></th>\n",
       "      <th>card_name</th>\n",
       "      <th>attack</th>\n",
       "      <th>hp</th>\n",
       "      <th>type</th>\n",
       "      <th>klass</th>\n",
       "      <th>tavern_level</th>\n",
       "      <th>card_amount</th>\n",
       "      <th>mechanics_list</th>\n",
       "      <th>use_flg</th>\n",
       "    </tr>\n",
       "  </thead>\n",
       "  <tbody>\n",
       "    <tr>\n",
       "      <th>4</th>\n",
       "      <td>Swampstriker</td>\n",
       "      <td>1</td>\n",
       "      <td>5</td>\n",
       "      <td>Minion</td>\n",
       "      <td>Murloc</td>\n",
       "      <td>1</td>\n",
       "      <td>17</td>\n",
       "      <td>PlayedCardBuffMechanic</td>\n",
       "      <td>1</td>\n",
       "    </tr>\n",
       "    <tr>\n",
       "      <th>5</th>\n",
       "      <td>Coldlight_Seer</td>\n",
       "      <td>2</td>\n",
       "      <td>3</td>\n",
       "      <td>Minion</td>\n",
       "      <td>Murloc</td>\n",
       "      <td>1</td>\n",
       "      <td>17</td>\n",
       "      <td>NaN</td>\n",
       "      <td>1</td>\n",
       "    </tr>\n",
       "  </tbody>\n",
       "</table>\n",
       "</div>"
      ],
      "text/plain": [
       "        card_name  attack  hp    type   klass  tavern_level  card_amount  \\\n",
       "4    Swampstriker       1   5  Minion  Murloc             1           17   \n",
       "5  Coldlight_Seer       2   3  Minion  Murloc             1           17   \n",
       "\n",
       "           mechanics_list  use_flg  \n",
       "4  PlayedCardBuffMechanic        1  \n",
       "5                     NaN        1  "
      ]
     },
     "execution_count": 10,
     "metadata": {},
     "output_type": "execute_result"
    }
   ],
   "source": [
    "cards_data = pd.read_excel('cards_data.xlsx')\n",
    "cards_data = cards_data[cards_data['use_flg'] == 1]\n",
    "cards_data"
   ]
  },
  {
   "cell_type": "code",
   "execution_count": 18,
   "metadata": {},
   "outputs": [
    {
     "data": {
      "text/plain": [
       "array([], shape=(0, 9), dtype=object)"
      ]
     },
     "execution_count": 18,
     "metadata": {},
     "output_type": "execute_result"
    }
   ],
   "source": [
    "cards_data[cards_data['card_name'] == 'ss'].values"
   ]
  },
  {
   "cell_type": "code",
   "execution_count": 21,
   "metadata": {},
   "outputs": [
    {
     "data": {
      "text/plain": [
       "array([['Swampstriker', 1, 5, 'Minion', 'Murloc', 1, 17,\n",
       "        'PlayedCardBuffMechanic', 1]], dtype=object)"
      ]
     },
     "execution_count": 21,
     "metadata": {},
     "output_type": "execute_result"
    }
   ],
   "source": [
    "cards_data[cards_data['card_name'] == 'Swampstriker'].values"
   ]
  },
  {
   "cell_type": "code",
   "execution_count": 24,
   "metadata": {},
   "outputs": [],
   "source": [
    "q,w,e,r,t,y,u,i,o = cards_data[cards_data['card_name'] == 'ss']"
   ]
  },
  {
   "cell_type": "code",
   "execution_count": 30,
   "metadata": {},
   "outputs": [
    {
     "data": {
      "text/html": [
       "<div>\n",
       "<style scoped>\n",
       "    .dataframe tbody tr th:only-of-type {\n",
       "        vertical-align: middle;\n",
       "    }\n",
       "\n",
       "    .dataframe tbody tr th {\n",
       "        vertical-align: top;\n",
       "    }\n",
       "\n",
       "    .dataframe thead th {\n",
       "        text-align: right;\n",
       "    }\n",
       "</style>\n",
       "<table border=\"1\" class=\"dataframe\">\n",
       "  <thead>\n",
       "    <tr style=\"text-align: right;\">\n",
       "      <th></th>\n",
       "      <th>card_name</th>\n",
       "      <th>attack</th>\n",
       "      <th>hp</th>\n",
       "      <th>type</th>\n",
       "      <th>klass</th>\n",
       "      <th>tavern_level</th>\n",
       "      <th>card_amount</th>\n",
       "      <th>mechanics_list</th>\n",
       "      <th>use_flg</th>\n",
       "    </tr>\n",
       "  </thead>\n",
       "  <tbody>\n",
       "    <tr>\n",
       "      <th>4</th>\n",
       "      <td>Swampstriker</td>\n",
       "      <td>1</td>\n",
       "      <td>5</td>\n",
       "      <td>Minion</td>\n",
       "      <td>Murloc</td>\n",
       "      <td>1</td>\n",
       "      <td>17</td>\n",
       "      <td>PlayedCardBuffMechanic</td>\n",
       "      <td>1</td>\n",
       "    </tr>\n",
       "  </tbody>\n",
       "</table>\n",
       "</div>"
      ],
      "text/plain": [
       "      card_name  attack  hp    type   klass  tavern_level  card_amount  \\\n",
       "4  Swampstriker       1   5  Minion  Murloc             1           17   \n",
       "\n",
       "           mechanics_list  use_flg  \n",
       "4  PlayedCardBuffMechanic        1  "
      ]
     },
     "execution_count": 30,
     "metadata": {},
     "output_type": "execute_result"
    }
   ],
   "source": [
    "a"
   ]
  },
  {
   "cell_type": "code",
   "execution_count": 38,
   "metadata": {},
   "outputs": [
    {
     "data": {
      "text/plain": [
       "'Swampstriker'"
      ]
     },
     "execution_count": 38,
     "metadata": {},
     "output_type": "execute_result"
    }
   ],
   "source": [
    "a = cards_data[cards_data['card_name'] == 'Swampstriker']\n",
    "a.iloc[0,0]"
   ]
  },
  {
   "cell_type": "code",
   "execution_count": 16,
   "metadata": {},
   "outputs": [
    {
     "data": {
      "text/plain": [
       "'attack'"
      ]
     },
     "execution_count": 16,
     "metadata": {},
     "output_type": "execute_result"
    }
   ],
   "source": [
    "w"
   ]
  },
  {
   "cell_type": "code",
   "execution_count": 8,
   "metadata": {},
   "outputs": [
    {
     "data": {
      "text/plain": [
       "<card_module.Card at 0x105aa8410>"
      ]
     },
     "execution_count": 8,
     "metadata": {},
     "output_type": "execute_result"
    }
   ],
   "source": [
    "Card('Swampstriker')"
   ]
  },
  {
   "cell_type": "code",
   "execution_count": null,
   "metadata": {},
   "outputs": [],
   "source": [
    "from mechanics_module import PlayedCardBuffMechanic\n"
   ]
  },
  {
   "cell_type": "code",
   "execution_count": 28,
   "metadata": {},
   "outputs": [],
   "source": [
    "import pandas as pd\n",
    "df = pd.read_excel('cards_data.xlsx')\n",
    "card_name = 'test'\n",
    "for index, row in df.iterrows():\n",
    "    if row['card_name'] == card_name:\n",
    "        card_name = row['card_name']\n",
    "        attack = int(row['attack'])\n",
    "        hp = int(row['hp'])\n",
    "        type = row['type']\n",
    "        klass = row['klass']\n",
    "        tavern_level = int(row['tavern_level'])\n",
    "        card_amount = int(row['card_amount'])\n",
    "        if pd.notna(row['mechanics_list']):\n",
    "            mechanics_list = [eval(mechanics) for mechanics in row['mechanics_list'].split(',')]\n",
    "        else:\n",
    "            mechanics_list = []"
   ]
  },
  {
   "cell_type": "code",
   "execution_count": 33,
   "metadata": {},
   "outputs": [
    {
     "data": {
      "text/plain": [
       "['Wrath_Weaver', 'test', 'Tavern_Tipper', 'Backstage_Security']"
      ]
     },
     "execution_count": 33,
     "metadata": {},
     "output_type": "execute_result"
    }
   ],
   "source": [
    "list(df['card_name'].values)"
   ]
  },
  {
   "cell_type": "code",
   "execution_count": 29,
   "metadata": {},
   "outputs": [
    {
     "data": {
      "text/plain": [
       "[mechanics_module.PlayedCardBuffMechanic, mechanics_module.Mechanics]"
      ]
     },
     "execution_count": 29,
     "metadata": {},
     "output_type": "execute_result"
    }
   ],
   "source": [
    "mechanics_list"
   ]
  },
  {
   "cell_type": "code",
   "execution_count": 16,
   "metadata": {},
   "outputs": [],
   "source": [
    "import pandas as pd\n",
    "df = pd.read_excel('cards_data.xlsx')"
   ]
  },
  {
   "cell_type": "code",
   "execution_count": 20,
   "metadata": {},
   "outputs": [
    {
     "data": {
      "text/plain": [
       "0         PlayedCardBuffMechanic\n",
       "1    PlayedCardBuffMechanic,pivo\n",
       "2                               \n",
       "3                               \n",
       "Name: mechanics_list, dtype: object"
      ]
     },
     "execution_count": 20,
     "metadata": {},
     "output_type": "execute_result"
    }
   ],
   "source": [
    "df['mechanics_list'].fillna('')"
   ]
  },
  {
   "cell_type": "code",
   "execution_count": 19,
   "metadata": {},
   "outputs": [
    {
     "data": {
      "text/plain": [
       "array([list(['PlayedCardBuffMechanic']),\n",
       "       list(['PlayedCardBuffMechanic', 'pivo']), list(['nan']),\n",
       "       list(['nan'])], dtype=object)"
      ]
     },
     "execution_count": 19,
     "metadata": {},
     "output_type": "execute_result"
    }
   ],
   "source": [
    "df['mechanics_list'].apply(lambda x: str(x).split(',')).values"
   ]
  },
  {
   "cell_type": "code",
   "execution_count": 21,
   "metadata": {},
   "outputs": [
    {
     "data": {
      "text/plain": [
       "array([list(['PlayedCardBuffMechanic']),\n",
       "       list(['PlayedCardBuffMechanic', 'pivo']), list(['']), list([''])],\n",
       "      dtype=object)"
      ]
     },
     "execution_count": 21,
     "metadata": {},
     "output_type": "execute_result"
    }
   ],
   "source": [
    "df['mechanics_list'].fillna('').apply(lambda x: str(x).split(',')).values"
   ]
  },
  {
   "cell_type": "code",
   "execution_count": 5,
   "metadata": {},
   "outputs": [
    {
     "data": {
      "text/plain": [
       "mechanics_module.PlayedCardBuffMechanic"
      ]
     },
     "execution_count": 5,
     "metadata": {},
     "output_type": "execute_result"
    }
   ],
   "source": [
    "eval('PlayedCardBuffMechanic')"
   ]
  },
  {
   "attachments": {},
   "cell_type": "markdown",
   "metadata": {},
   "source": [
    "Тестирую баф карты"
   ]
  },
  {
   "cell_type": "code",
   "execution_count": 2,
   "metadata": {},
   "outputs": [],
   "source": [
    "# через Card"
   ]
  },
  {
   "cell_type": "code",
   "execution_count": 3,
   "metadata": {},
   "outputs": [
    {
     "name": "stdout",
     "output_type": "stream",
     "text": [
      "Card name: Wrath_Weaver, card attack: 1, card hp 3\n",
      "Card: Wrath_Weaver, original attack: 1, original hp 3\n",
      "Card: Wrath_Weaver, new attack: 1, new hp 4\n",
      "Card name: Wrath_Weaver, card attack: 1, card hp 4\n"
     ]
    }
   ],
   "source": [
    "# \n",
    "a = Card(card_name='Wrath_Weaver')\n",
    "print(a.card_info())            \n",
    "a.buff_card(1, 'hp')\n",
    "print(a.card_info())            "
   ]
  },
  {
   "cell_type": "code",
   "execution_count": 4,
   "metadata": {},
   "outputs": [],
   "source": [
    "# Через mechanics_module"
   ]
  },
  {
   "cell_type": "code",
   "execution_count": 3,
   "metadata": {},
   "outputs": [
    {
     "name": "stdout",
     "output_type": "stream",
     "text": [
      "Card name: Wrath_Weaver, card attack: 1, card hp 3\n",
      "Card: Wrath_Weaver, original attack: 1, original hp 3\n",
      "Card: Wrath_Weaver, new attack: 1, new hp 4\n",
      "Card: Wrath_Weaver, original attack: 1, original hp 4\n",
      "Card: Wrath_Weaver, new attack: 3, new hp 4\n"
     ]
    }
   ],
   "source": [
    "card = Card(card_name='Wrath_Weaver')\n",
    "played_card = Card(card_name='Backstage_Security')\n",
    "print(card.card_info())   \n",
    "buff_class = PlayedCardBuffMechanic(card, played_card, tavern=None)\n",
    "buff_class.trigger_buffs()\n"
   ]
  },
  {
   "cell_type": "code",
   "execution_count": 5,
   "metadata": {},
   "outputs": [
    {
     "name": "stdout",
     "output_type": "stream",
     "text": [
      "Card name: Wrath_Weaver, card attack: 1, card hp 3\n",
      "Card: Wrath_Weaver, original attack: 1, original hp 3\n",
      "Card: Wrath_Weaver, new attack: 1, new hp 4\n",
      "Card: Wrath_Weaver, original attack: 1, original hp 4\n",
      "Card: Wrath_Weaver, new attack: 3, new hp 4\n"
     ]
    }
   ],
   "source": [
    "card = Card(card_name='Wrath_Weaver')\n",
    "played_card = Card(card_name='Backstage_Security')\n",
    "print(card.card_info())  \n",
    "PlayedCardBuffMechanic(card, played_card, tavern=None).trigger_buffs()"
   ]
  },
  {
   "cell_type": "code",
   "execution_count": 2,
   "metadata": {},
   "outputs": [
    {
     "name": "stdout",
     "output_type": "stream",
     "text": [
      "Card name: Wrath_Weaver, card attack: 1, card hp 3\n",
      "Card: Wrath_Weaver, original attack: 1, original hp 3\n",
      "Card: Wrath_Weaver, new attack: 1, new hp 4\n",
      "Card: Wrath_Weaver, original attack: 1, original hp 4\n",
      "Card: Wrath_Weaver, new attack: 3, new hp 4\n"
     ]
    }
   ],
   "source": [
    "card = Card(card_name='Wrath_Weaver')\n",
    "played_card = Card(card_name='Backstage_Security')\n",
    "print(card.card_info())  \n",
    "card.trigger_buffs(played_card)\n",
    "# PlayedCardBuffMechanic(card, played_card, tavern=None).trigger_buffs()"
   ]
  },
  {
   "attachments": {},
   "cell_type": "markdown",
   "metadata": {},
   "source": [
    "## Тестирование для Fight"
   ]
  },
  {
   "cell_type": "code",
   "execution_count": 53,
   "metadata": {},
   "outputs": [
    {
     "name": "stdout",
     "output_type": "stream",
     "text": [
      "Attacking minion: Card name: Wrath_Weaver, card attack: 1, card hp 3\n",
      "Defending minion: Card name: Wrath_Weaver, card attack: 1, card hp 3\n",
      "Attacking minion stats after attack: Card name: Wrath_Weaver, card attack: 1, card hp 2\n",
      "Defending minion stats after attack: Card name: Wrath_Weaver, card attack: 1, card hp 2\n",
      "Attacking minion: Card name: Wrath_Weaver, card attack: 1, card hp 3\n",
      "Defending minion: Card name: Wrath_Weaver, card attack: 1, card hp 2\n",
      "Attacking minion stats after attack: Card name: Wrath_Weaver, card attack: 1, card hp 2\n",
      "Defending minion stats after attack: Card name: Wrath_Weaver, card attack: 1, card hp 1\n",
      "Attacking minion: Card name: Wrath_Weaver, card attack: 1, card hp 3\n",
      "Defending minion: Card name: Wrath_Weaver, card attack: 1, card hp 2\n",
      "Attacking minion stats after attack: Card name: Wrath_Weaver, card attack: 1, card hp 2\n",
      "Defending minion stats after attack: Card name: Wrath_Weaver, card attack: 1, card hp 1\n",
      "Attacking minion: Card name: Wrath_Weaver, card attack: 1, card hp 1\n",
      "Defending minion: Card name: Wrath_Weaver, card attack: 1, card hp 2\n",
      "Attacking minion stats after attack: Card name: Wrath_Weaver, card attack: 1, card hp 0\n",
      "Defending minion stats after attack: Card name: Wrath_Weaver, card attack: 1, card hp 1\n",
      "Attacking minion: Card name: Wrath_Weaver, card attack: 1, card hp 1\n",
      "Defending minion: Card name: Wrath_Weaver, card attack: 1, card hp 2\n",
      "Attacking minion stats after attack: Card name: Wrath_Weaver, card attack: 1, card hp 0\n",
      "Defending minion stats after attack: Card name: Wrath_Weaver, card attack: 1, card hp 1\n",
      "Attacking minion: Card name: Wrath_Weaver, card attack: 1, card hp 1\n",
      "Defending minion: Card name: Wrath_Weaver, card attack: 1, card hp 1\n",
      "Attacking minion stats after attack: Card name: Wrath_Weaver, card attack: 1, card hp 0\n",
      "Defending minion stats after attack: Card name: Wrath_Weaver, card attack: 1, card hp 0\n",
      "It's a tie!\n"
     ]
    }
   ],
   "source": [
    "from game_module import Game\n",
    "from card_module import Card\n",
    "# Initialize players\n",
    "game = Game()\n",
    "player1, player2 = game.create_players_taverns()\n",
    "# Create minions to players\n",
    "player1.player_board = [Card('Wrath_Weaver'), Card('Wrath_Weaver')]\n",
    "player2.player_board = [Card('Wrath_Weaver'), Card('Wrath_Weaver')]\n",
    "Fight(player1, player2).simulate()"
   ]
  },
  {
   "cell_type": "code",
   "execution_count": 9,
   "metadata": {},
   "outputs": [
    {
     "data": {
      "text/plain": [
       "[<card_module.Card at 0x1131c5d10>, <card_module.Card at 0x1131c7e10>]"
      ]
     },
     "execution_count": 9,
     "metadata": {},
     "output_type": "execute_result"
    }
   ],
   "source": [
    "player1.player_board = [Card('Wrath_Weaver'), Card('Wrath_Weaver')]\n",
    "\n",
    "player1.player_board"
   ]
  },
  {
   "attachments": {},
   "cell_type": "markdown",
   "metadata": {},
   "source": [
    "Список проблем\n",
    "\n",
    "~~Первым может атаковать игрок с меньшим количеством карт~~\n",
    "\n",
    "У обоих игроков остались карты 1-1, но первый игрок выиграл"
   ]
  },
  {
   "attachments": {},
   "cell_type": "markdown",
   "metadata": {},
   "source": [
    "Список идей\n",
    "\n",
    "Вынести определение первого, кто атакует в отедльную функцию ИЛИ Вынести определение игрока, кто атакует в отедльную функцию"
   ]
  },
  {
   "cell_type": "markdown",
   "metadata": {},
   "source": []
  }
 ],
 "metadata": {
  "kernelspec": {
   "display_name": "Python 3",
   "language": "python",
   "name": "python3"
  },
  "language_info": {
   "codemirror_mode": {
    "name": "ipython",
    "version": 3
   },
   "file_extension": ".py",
   "mimetype": "text/x-python",
   "name": "python",
   "nbconvert_exporter": "python",
   "pygments_lexer": "ipython3",
   "version": "3.11.3"
  },
  "orig_nbformat": 4
 },
 "nbformat": 4,
 "nbformat_minor": 2
}
