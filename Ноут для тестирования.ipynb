{
 "cells": [
  {
   "cell_type": "markdown",
   "metadata": {},
   "source": [
    "## Объединяю все питон файлы в один"
   ]
  },
  {
   "cell_type": "code",
   "execution_count": 5,
   "metadata": {},
   "outputs": [
    {
     "data": {
      "text/plain": [
       "['card_module.py',\n",
       " 'fight_module.py',\n",
       " 'game_module.py',\n",
       " 'tavern_module.py',\n",
       " 'mechanics_module.py',\n",
       " 'combined_code.py',\n",
       " 'events_system_module.py',\n",
       " 'main.py',\n",
       " 'cards_pool_module.py']"
      ]
     },
     "execution_count": 5,
     "metadata": {},
     "output_type": "execute_result"
    }
   ],
   "source": [
    "# Вывожу все файлы с раширением .py\n",
    "import os\n",
    "directory = '/Users/ddnikulin/Documents/GitHub/RL_in_Hearstone_Battlegrounds'\n",
    "python_files = [file for file in os.listdir(directory) if file.endswith('.py')]\n",
    "python_files"
   ]
  },
  {
   "cell_type": "code",
   "execution_count": 6,
   "metadata": {},
   "outputs": [
    {
     "name": "stdout",
     "output_type": "stream",
     "text": [
      "All Python files in '/Users/ddnikulin/Documents/GitHub/RL_in_Hearstone_Battlegrounds' have been combined into 'combined_code.py'.\n"
     ]
    }
   ],
   "source": [
    "import os\n",
    "\n",
    "files_to_unite = [\n",
    "    'card_module.py',\n",
    "    'fight_module.py',\n",
    "    'game_module.py',\n",
    "    'tavern_module.py',\n",
    "    'mechanics_module.py',\n",
    "    'events_system_module.py',\n",
    "    'cards_pool_module.py'\n",
    "]\n",
    "\n",
    "def unite_python_files(directory, output_file):\n",
    "    \"\"\"\n",
    "    Combines all Python files in the specified directory into a single file.\n",
    "    Each file's content is separated by a comment indicating the original file name.\n",
    "\n",
    "    :param directory: Directory containing the Python files.\n",
    "    :param output_file: Name of the output file.\n",
    "    \"\"\"\n",
    "    with open(output_file, 'w', encoding='utf-8') as outfile:\n",
    "        for filename in files_to_unite:\n",
    "            if filename.endswith('.py') and filename != output_file:\n",
    "                file_path = os.path.join(directory, filename)\n",
    "                with open(file_path, 'r', encoding='utf-8') as infile:\n",
    "                    # Write the separator\n",
    "                    outfile.write(f\"\\n# ------- {filename} -------\\n\\n\")\n",
    "                    # Write the content of the file\n",
    "                    outfile.write(infile.read())\n",
    "    print(f\"All Python files in '{directory}' have been combined into '{output_file}'.\")\n",
    "\n",
    "# Usage\n",
    "directory = '/Users/ddnikulin/Documents/GitHub/RL_in_Hearstone_Battlegrounds'\n",
    "output_file = 'combined_code.py'    # Name of the output file\n",
    "unite_python_files(directory, output_file)\n"
   ]
  },
  {
   "cell_type": "code",
   "execution_count": 3,
   "metadata": {},
   "outputs": [
    {
     "data": {
      "text/plain": [
       "['card_module.py',\n",
       " 'fight_module.py',\n",
       " 'game_v1.py',\n",
       " 'Ноут для тестирования.ipynb',\n",
       " '.DS_Store',\n",
       " 'game_module.py',\n",
       " 'tavern_module.py',\n",
       " 'Cards Mechanics.md',\n",
       " 'cards_data.xlsx',\n",
       " 'venv_hs',\n",
       " 'mechanics_module.py',\n",
       " '__pycache__',\n",
       " 'test.py',\n",
       " 'card_module_old.py',\n",
       " 'README.md',\n",
       " 'Tasks.md',\n",
       " 'sdasdasd.txt',\n",
       " '~$cards_data.xlsx',\n",
       " 'mechanics_module_old.py',\n",
       " '.gitignore',\n",
       " '.gitattributes',\n",
       " 'just.py',\n",
       " 'events_system_module.py',\n",
       " '.git',\n",
       " '.vscode',\n",
       " 'main.py',\n",
       " 'cards_pool_module.py']"
      ]
     },
     "execution_count": 3,
     "metadata": {},
     "output_type": "execute_result"
    }
   ],
   "source": [
    "os.listdir('/Users/ddnikulin/Documents/GitHub/RL_in_Hearstone_Battlegrounds')"
   ]
  },
  {
   "cell_type": "code",
   "execution_count": 1,
   "metadata": {},
   "outputs": [
    {
     "name": "stdout",
     "output_type": "stream",
     "text": [
      "Attacking minion: Card name: Wrath_Weaver, card attack: 1, card hp 3\n",
      "Defending minion: Card name: Molten_Rock, card attack: 3, card hp 3\n",
      "Attacking minion stats after attack: Card name: Wrath_Weaver, card attack: 1, card hp 0\n",
      "Defending minion stats after attack: Card name: Molten_Rock, card attack: 3, card hp 2\n",
      "Player Player2 wins!\n"
     ]
    }
   ],
   "source": [
    "# tests/test_fight_module.py\n",
    "\n",
    "from fight_module import Fight\n",
    "from tavern_module import Tavern\n",
    "from game_module import Game\n",
    "from card_module import *\n",
    "\n",
    "def test_fight_simulation():\n",
    "    game = Game()\n",
    "    player1 = Tavern(game, player_name='Player1')\n",
    "    player2 = Tavern(game, player_name='Player2')\n",
    "    \n",
    "    # Setup players' boards\n",
    "    minion1 = MinionCard('Wrath_Weaver')\n",
    "    minion2 = MinionCard('Molten_Rock')\n",
    "    player1.player_board.append(minion1)\n",
    "    player2.player_board.append(minion2)\n",
    "    \n",
    "    fight = Fight(player1, player2)\n",
    "    winner, damage = fight.simulate()\n",
    "    \n",
    "    assert winner in [0, 1, -1]  # Ensure winner is valid\n",
    "    \n",
    "test_fight_simulation()\n"
   ]
  },
  {
   "cell_type": "code",
   "execution_count": 13,
   "metadata": {},
   "outputs": [
    {
     "ename": "FileNotFoundError",
     "evalue": "[Errno 2] No such file or directory: 'path/to/your/directory'",
     "output_type": "error",
     "traceback": [
      "\u001b[0;31m---------------------------------------------------------------------------\u001b[0m",
      "\u001b[0;31mFileNotFoundError\u001b[0m                         Traceback (most recent call last)",
      "Cell \u001b[0;32mIn[13], line 25\u001b[0m\n\u001b[1;32m     23\u001b[0m directory \u001b[38;5;241m=\u001b[39m \u001b[38;5;124m'\u001b[39m\u001b[38;5;124mpath/to/your/directory\u001b[39m\u001b[38;5;124m'\u001b[39m  \u001b[38;5;66;03m# Replace with your directory path\u001b[39;00m\n\u001b[1;32m     24\u001b[0m output_file \u001b[38;5;241m=\u001b[39m \u001b[38;5;124m'\u001b[39m\u001b[38;5;124mcombined_files.py\u001b[39m\u001b[38;5;124m'\u001b[39m    \u001b[38;5;66;03m# Name of the output file\u001b[39;00m\n\u001b[0;32m---> 25\u001b[0m \u001b[43munite_python_files\u001b[49m\u001b[43m(\u001b[49m\u001b[43mdirectory\u001b[49m\u001b[43m,\u001b[49m\u001b[43m \u001b[49m\u001b[43moutput_file\u001b[49m\u001b[43m)\u001b[49m\n",
      "Cell \u001b[0;32mIn[13], line 12\u001b[0m, in \u001b[0;36munite_python_files\u001b[0;34m(directory, output_file)\u001b[0m\n\u001b[1;32m      4\u001b[0m \u001b[38;5;250m\u001b[39m\u001b[38;5;124;03m\"\"\"\u001b[39;00m\n\u001b[1;32m      5\u001b[0m \u001b[38;5;124;03mCombines all Python files in the specified directory into a single file.\u001b[39;00m\n\u001b[1;32m      6\u001b[0m \u001b[38;5;124;03mEach file's content is separated by a comment indicating the original file name.\u001b[39;00m\n\u001b[0;32m   (...)\u001b[0m\n\u001b[1;32m      9\u001b[0m \u001b[38;5;124;03m:param output_file: Name of the output file.\u001b[39;00m\n\u001b[1;32m     10\u001b[0m \u001b[38;5;124;03m\"\"\"\u001b[39;00m\n\u001b[1;32m     11\u001b[0m \u001b[38;5;28;01mwith\u001b[39;00m \u001b[38;5;28mopen\u001b[39m(output_file, \u001b[38;5;124m'\u001b[39m\u001b[38;5;124mw\u001b[39m\u001b[38;5;124m'\u001b[39m, encoding\u001b[38;5;241m=\u001b[39m\u001b[38;5;124m'\u001b[39m\u001b[38;5;124mutf-8\u001b[39m\u001b[38;5;124m'\u001b[39m) \u001b[38;5;28;01mas\u001b[39;00m outfile:\n\u001b[0;32m---> 12\u001b[0m     \u001b[38;5;28;01mfor\u001b[39;00m filename \u001b[38;5;129;01min\u001b[39;00m \u001b[38;5;28msorted\u001b[39m(\u001b[43mos\u001b[49m\u001b[38;5;241;43m.\u001b[39;49m\u001b[43mlistdir\u001b[49m\u001b[43m(\u001b[49m\u001b[43mdirectory\u001b[49m\u001b[43m)\u001b[49m):\n\u001b[1;32m     13\u001b[0m         \u001b[38;5;28;01mif\u001b[39;00m filename\u001b[38;5;241m.\u001b[39mendswith(\u001b[38;5;124m'\u001b[39m\u001b[38;5;124m.py\u001b[39m\u001b[38;5;124m'\u001b[39m) \u001b[38;5;129;01mand\u001b[39;00m filename \u001b[38;5;241m!=\u001b[39m output_file:\n\u001b[1;32m     14\u001b[0m             file_path \u001b[38;5;241m=\u001b[39m os\u001b[38;5;241m.\u001b[39mpath\u001b[38;5;241m.\u001b[39mjoin(directory, filename)\n",
      "\u001b[0;31mFileNotFoundError\u001b[0m: [Errno 2] No such file or directory: 'path/to/your/directory'"
     ]
    }
   ],
   "source": [
    "import os\n",
    "\n",
    "def unite_python_files(directory, output_file):\n",
    "    \"\"\"\n",
    "    Combines all Python files in the specified directory into a single file.\n",
    "    Each file's content is separated by a comment indicating the original file name.\n",
    "\n",
    "    :param directory: Directory containing the Python files.\n",
    "    :param output_file: Name of the output file.\n",
    "    \"\"\"\n",
    "    with open(output_file, 'w', encoding='utf-8') as outfile:\n",
    "        for filename in sorted(os.listdir(directory)):\n",
    "            if filename.endswith('.py') and filename != output_file:\n",
    "                file_path = os.path.join(directory, filename)\n",
    "                with open(file_path, 'r', encoding='utf-8') as infile:\n",
    "                    # Write the separator\n",
    "                    outfile.write(f\"\\n# ------- {filename} -------\\n\\n\")\n",
    "                    # Write the content of the file\n",
    "                    outfile.write(infile.read())\n",
    "    print(f\"All Python files in '{directory}' have been combined into '{output_file}'.\")\n",
    "\n",
    "# Usage\n",
    "directory = 'path/to/your/directory'  # Replace with your directory path\n",
    "output_file = 'combined_files.py'    # Name of the output file\n",
    "unite_python_files(directory, output_file)\n"
   ]
  },
  {
   "cell_type": "code",
   "execution_count": 2,
   "metadata": {},
   "outputs": [
    {
     "data": {
      "text/plain": [
       "['card_module.py',\n",
       " 'fight_module.py',\n",
       " 'game_v1.py',\n",
       " 'Ноут для тестирования.ipynb',\n",
       " '.DS_Store',\n",
       " 'game_module.py',\n",
       " 'tavern_module.py',\n",
       " 'Cards Mechanics.md',\n",
       " 'cards_data.xlsx',\n",
       " 'venv_hs',\n",
       " 'mechanics_module.py',\n",
       " '__pycache__',\n",
       " 'test.py',\n",
       " 'card_module_old.py',\n",
       " 'README.md',\n",
       " 'Tasks.md',\n",
       " 'sdasdasd.txt',\n",
       " '~$cards_data.xlsx',\n",
       " 'mechanics_module_old.py',\n",
       " '.gitignore',\n",
       " '.gitattributes',\n",
       " 'just.py',\n",
       " 'events_system_module.py',\n",
       " '.git',\n",
       " '.vscode',\n",
       " 'main.py',\n",
       " 'cards_pool_module.py']"
      ]
     },
     "execution_count": 2,
     "metadata": {},
     "output_type": "execute_result"
    }
   ],
   "source": [
    "import os\n",
    "\n",
    "os.listdir('/Users/ddnikulin/Documents/GitHub/RL_in_Hearstone_Battlegrounds')"
   ]
  },
  {
   "cell_type": "code",
   "execution_count": 1,
   "metadata": {},
   "outputs": [],
   "source": [
    "# тесты\n",
    "import copy\n",
    "import random\n",
    "from game_module import Game\n",
    "import numpy as np\n",
    "import pandas as pd\n",
    "from card_module import Card\n",
    "from mechanics_module import Mechanics, PlayedCardBuffMechanic, BattlecryMechanic"
   ]
  },
  {
   "attachments": {},
   "cell_type": "markdown",
   "metadata": {},
   "source": [
    " Test tavern.add_card_to_player_hand('Water Droplet')"
   ]
  },
  {
   "cell_type": "code",
   "execution_count": 1,
   "metadata": {},
   "outputs": [],
   "source": [
    "from card_module import *\n",
    "from game_module import Game\n",
    "from tavern_module import Tavern"
   ]
  },
  {
   "cell_type": "code",
   "execution_count": 2,
   "metadata": {},
   "outputs": [],
   "source": [
    "game = Game()\n",
    "tavern = Tavern(game = game, player_name= 'piska')"
   ]
  },
  {
   "cell_type": "code",
   "execution_count": 3,
   "metadata": {},
   "outputs": [
    {
     "data": {
      "text/plain": [
       "[]"
      ]
     },
     "execution_count": 3,
     "metadata": {},
     "output_type": "execute_result"
    }
   ],
   "source": [
    "tavern.player_hand"
   ]
  },
  {
   "cell_type": "code",
   "execution_count": 4,
   "metadata": {},
   "outputs": [
    {
     "data": {
      "text/plain": [
       "'Minion'"
      ]
     },
     "execution_count": 4,
     "metadata": {},
     "output_type": "execute_result"
    }
   ],
   "source": [
    "Card('Water_Droplet').type"
   ]
  },
  {
   "cell_type": "code",
   "execution_count": 6,
   "metadata": {},
   "outputs": [
    {
     "data": {
      "text/plain": [
       "True"
      ]
     },
     "execution_count": 6,
     "metadata": {},
     "output_type": "execute_result"
    }
   ],
   "source": [
    "Card('Water_Droplet').type == 'Minion'"
   ]
  },
  {
   "cell_type": "code",
   "execution_count": 9,
   "metadata": {},
   "outputs": [
    {
     "data": {
      "text/plain": [
       "2800.0"
      ]
     },
     "execution_count": 9,
     "metadata": {},
     "output_type": "execute_result"
    }
   ],
   "source": [
    "4000 * 0.70"
   ]
  },
  {
   "cell_type": "code",
   "execution_count": 7,
   "metadata": {},
   "outputs": [
    {
     "name": "stdout",
     "output_type": "stream",
     "text": [
      "[<card_module.MinionCard object at 0x137ca1310>]\n"
     ]
    }
   ],
   "source": [
    "tavern.add_card_to_player_hand('Water_Droplet')\n",
    "print(tavern.player_hand)"
   ]
  },
  {
   "attachments": {},
   "cell_type": "markdown",
   "metadata": {},
   "source": [
    "Всякое"
   ]
  },
  {
   "cell_type": "code",
   "execution_count": 18,
   "metadata": {},
   "outputs": [
    {
     "data": {
      "text/plain": [
       "False"
      ]
     },
     "execution_count": 18,
     "metadata": {},
     "output_type": "execute_result"
    }
   ],
   "source": [
    "a = [1,2,3]\n",
    "4 in a"
   ]
  },
  {
   "attachments": {},
   "cell_type": "markdown",
   "metadata": {},
   "source": [
    "Тестирую список механик у карт"
   ]
  },
  {
   "cell_type": "code",
   "execution_count": 1,
   "metadata": {},
   "outputs": [
    {
     "data": {
      "text/plain": [
       "[mechanics_module.BattlecryMechanic]"
      ]
     },
     "execution_count": 1,
     "metadata": {},
     "output_type": "execute_result"
    }
   ],
   "source": [
    "from mechanics_module import *\n",
    "from card_module import Card\n",
    "kart = Card('Coldlight_Seer')\n",
    "kart.mechanics_list"
   ]
  },
  {
   "cell_type": "code",
   "execution_count": 5,
   "metadata": {},
   "outputs": [
    {
     "data": {
      "text/plain": [
       "True"
      ]
     },
     "execution_count": 5,
     "metadata": {},
     "output_type": "execute_result"
    }
   ],
   "source": [
    "BattlecryMechanic in kart.mechanics_list"
   ]
  },
  {
   "cell_type": "code",
   "execution_count": 2,
   "metadata": {},
   "outputs": [
    {
     "data": {
      "text/plain": [
       "[mechanics_module.BattlecryMechanic]"
      ]
     },
     "execution_count": 2,
     "metadata": {},
     "output_type": "execute_result"
    }
   ],
   "source": [
    "kart = Card('Coldlight_Seer')\n",
    "kart.mechanics_list"
   ]
  },
  {
   "attachments": {},
   "cell_type": "markdown",
   "metadata": {},
   "source": [
    "Тестирую инициализацию карт через excel"
   ]
  },
  {
   "cell_type": "code",
   "execution_count": 10,
   "metadata": {},
   "outputs": [
    {
     "data": {
      "text/html": [
       "<div>\n",
       "<style scoped>\n",
       "    .dataframe tbody tr th:only-of-type {\n",
       "        vertical-align: middle;\n",
       "    }\n",
       "\n",
       "    .dataframe tbody tr th {\n",
       "        vertical-align: top;\n",
       "    }\n",
       "\n",
       "    .dataframe thead th {\n",
       "        text-align: right;\n",
       "    }\n",
       "</style>\n",
       "<table border=\"1\" class=\"dataframe\">\n",
       "  <thead>\n",
       "    <tr style=\"text-align: right;\">\n",
       "      <th></th>\n",
       "      <th>card_name</th>\n",
       "      <th>attack</th>\n",
       "      <th>hp</th>\n",
       "      <th>type</th>\n",
       "      <th>klass</th>\n",
       "      <th>tavern_level</th>\n",
       "      <th>card_amount</th>\n",
       "      <th>mechanics_list</th>\n",
       "      <th>use_flg</th>\n",
       "    </tr>\n",
       "  </thead>\n",
       "  <tbody>\n",
       "    <tr>\n",
       "      <th>4</th>\n",
       "      <td>Swampstriker</td>\n",
       "      <td>1</td>\n",
       "      <td>5</td>\n",
       "      <td>Minion</td>\n",
       "      <td>Murloc</td>\n",
       "      <td>1</td>\n",
       "      <td>17</td>\n",
       "      <td>PlayedCardBuffMechanic</td>\n",
       "      <td>1</td>\n",
       "    </tr>\n",
       "    <tr>\n",
       "      <th>5</th>\n",
       "      <td>Coldlight_Seer</td>\n",
       "      <td>2</td>\n",
       "      <td>3</td>\n",
       "      <td>Minion</td>\n",
       "      <td>Murloc</td>\n",
       "      <td>1</td>\n",
       "      <td>17</td>\n",
       "      <td>NaN</td>\n",
       "      <td>1</td>\n",
       "    </tr>\n",
       "  </tbody>\n",
       "</table>\n",
       "</div>"
      ],
      "text/plain": [
       "        card_name  attack  hp    type   klass  tavern_level  card_amount  \\\n",
       "4    Swampstriker       1   5  Minion  Murloc             1           17   \n",
       "5  Coldlight_Seer       2   3  Minion  Murloc             1           17   \n",
       "\n",
       "           mechanics_list  use_flg  \n",
       "4  PlayedCardBuffMechanic        1  \n",
       "5                     NaN        1  "
      ]
     },
     "execution_count": 10,
     "metadata": {},
     "output_type": "execute_result"
    }
   ],
   "source": [
    "cards_data = pd.read_excel('cards_data.xlsx')\n",
    "cards_data = cards_data[cards_data['use_flg'] == 1]\n",
    "cards_data"
   ]
  },
  {
   "cell_type": "code",
   "execution_count": 18,
   "metadata": {},
   "outputs": [
    {
     "data": {
      "text/plain": [
       "array([], shape=(0, 9), dtype=object)"
      ]
     },
     "execution_count": 18,
     "metadata": {},
     "output_type": "execute_result"
    }
   ],
   "source": [
    "cards_data[cards_data['card_name'] == 'ss'].values"
   ]
  },
  {
   "cell_type": "code",
   "execution_count": 21,
   "metadata": {},
   "outputs": [
    {
     "data": {
      "text/plain": [
       "array([['Swampstriker', 1, 5, 'Minion', 'Murloc', 1, 17,\n",
       "        'PlayedCardBuffMechanic', 1]], dtype=object)"
      ]
     },
     "execution_count": 21,
     "metadata": {},
     "output_type": "execute_result"
    }
   ],
   "source": [
    "cards_data[cards_data['card_name'] == 'Swampstriker'].values"
   ]
  },
  {
   "cell_type": "code",
   "execution_count": 24,
   "metadata": {},
   "outputs": [],
   "source": [
    "q,w,e,r,t,y,u,i,o = cards_data[cards_data['card_name'] == 'ss']"
   ]
  },
  {
   "cell_type": "code",
   "execution_count": 30,
   "metadata": {},
   "outputs": [
    {
     "data": {
      "text/html": [
       "<div>\n",
       "<style scoped>\n",
       "    .dataframe tbody tr th:only-of-type {\n",
       "        vertical-align: middle;\n",
       "    }\n",
       "\n",
       "    .dataframe tbody tr th {\n",
       "        vertical-align: top;\n",
       "    }\n",
       "\n",
       "    .dataframe thead th {\n",
       "        text-align: right;\n",
       "    }\n",
       "</style>\n",
       "<table border=\"1\" class=\"dataframe\">\n",
       "  <thead>\n",
       "    <tr style=\"text-align: right;\">\n",
       "      <th></th>\n",
       "      <th>card_name</th>\n",
       "      <th>attack</th>\n",
       "      <th>hp</th>\n",
       "      <th>type</th>\n",
       "      <th>klass</th>\n",
       "      <th>tavern_level</th>\n",
       "      <th>card_amount</th>\n",
       "      <th>mechanics_list</th>\n",
       "      <th>use_flg</th>\n",
       "    </tr>\n",
       "  </thead>\n",
       "  <tbody>\n",
       "    <tr>\n",
       "      <th>4</th>\n",
       "      <td>Swampstriker</td>\n",
       "      <td>1</td>\n",
       "      <td>5</td>\n",
       "      <td>Minion</td>\n",
       "      <td>Murloc</td>\n",
       "      <td>1</td>\n",
       "      <td>17</td>\n",
       "      <td>PlayedCardBuffMechanic</td>\n",
       "      <td>1</td>\n",
       "    </tr>\n",
       "  </tbody>\n",
       "</table>\n",
       "</div>"
      ],
      "text/plain": [
       "      card_name  attack  hp    type   klass  tavern_level  card_amount  \\\n",
       "4  Swampstriker       1   5  Minion  Murloc             1           17   \n",
       "\n",
       "           mechanics_list  use_flg  \n",
       "4  PlayedCardBuffMechanic        1  "
      ]
     },
     "execution_count": 30,
     "metadata": {},
     "output_type": "execute_result"
    }
   ],
   "source": [
    "a"
   ]
  },
  {
   "cell_type": "code",
   "execution_count": 38,
   "metadata": {},
   "outputs": [
    {
     "data": {
      "text/plain": [
       "'Swampstriker'"
      ]
     },
     "execution_count": 38,
     "metadata": {},
     "output_type": "execute_result"
    }
   ],
   "source": [
    "a = cards_data[cards_data['card_name'] == 'Swampstriker']\n",
    "a.iloc[0,0]"
   ]
  },
  {
   "cell_type": "code",
   "execution_count": 16,
   "metadata": {},
   "outputs": [
    {
     "data": {
      "text/plain": [
       "'attack'"
      ]
     },
     "execution_count": 16,
     "metadata": {},
     "output_type": "execute_result"
    }
   ],
   "source": [
    "w"
   ]
  },
  {
   "cell_type": "code",
   "execution_count": 8,
   "metadata": {},
   "outputs": [
    {
     "data": {
      "text/plain": [
       "<card_module.Card at 0x105aa8410>"
      ]
     },
     "execution_count": 8,
     "metadata": {},
     "output_type": "execute_result"
    }
   ],
   "source": [
    "Card('Swampstriker')"
   ]
  },
  {
   "cell_type": "code",
   "execution_count": null,
   "metadata": {},
   "outputs": [],
   "source": [
    "from mechanics_module import PlayedCardBuffMechanic\n"
   ]
  },
  {
   "cell_type": "code",
   "execution_count": 28,
   "metadata": {},
   "outputs": [],
   "source": [
    "import pandas as pd\n",
    "df = pd.read_excel('cards_data.xlsx')\n",
    "card_name = 'test'\n",
    "for index, row in df.iterrows():\n",
    "    if row['card_name'] == card_name:\n",
    "        card_name = row['card_name']\n",
    "        attack = int(row['attack'])\n",
    "        hp = int(row['hp'])\n",
    "        type = row['type']\n",
    "        klass = row['klass']\n",
    "        tavern_level = int(row['tavern_level'])\n",
    "        card_amount = int(row['card_amount'])\n",
    "        if pd.notna(row['mechanics_list']):\n",
    "            mechanics_list = [eval(mechanics) for mechanics in row['mechanics_list'].split(',')]\n",
    "        else:\n",
    "            mechanics_list = []"
   ]
  },
  {
   "cell_type": "code",
   "execution_count": 33,
   "metadata": {},
   "outputs": [
    {
     "data": {
      "text/plain": [
       "['Wrath_Weaver', 'test', 'Tavern_Tipper', 'Backstage_Security']"
      ]
     },
     "execution_count": 33,
     "metadata": {},
     "output_type": "execute_result"
    }
   ],
   "source": [
    "list(df['card_name'].values)"
   ]
  },
  {
   "cell_type": "code",
   "execution_count": 29,
   "metadata": {},
   "outputs": [
    {
     "data": {
      "text/plain": [
       "[mechanics_module.PlayedCardBuffMechanic, mechanics_module.Mechanics]"
      ]
     },
     "execution_count": 29,
     "metadata": {},
     "output_type": "execute_result"
    }
   ],
   "source": [
    "mechanics_list"
   ]
  },
  {
   "cell_type": "code",
   "execution_count": 16,
   "metadata": {},
   "outputs": [],
   "source": [
    "import pandas as pd\n",
    "df = pd.read_excel('cards_data.xlsx')"
   ]
  },
  {
   "cell_type": "code",
   "execution_count": 20,
   "metadata": {},
   "outputs": [
    {
     "data": {
      "text/plain": [
       "0         PlayedCardBuffMechanic\n",
       "1    PlayedCardBuffMechanic,pivo\n",
       "2                               \n",
       "3                               \n",
       "Name: mechanics_list, dtype: object"
      ]
     },
     "execution_count": 20,
     "metadata": {},
     "output_type": "execute_result"
    }
   ],
   "source": [
    "df['mechanics_list'].fillna('')"
   ]
  },
  {
   "cell_type": "code",
   "execution_count": 19,
   "metadata": {},
   "outputs": [
    {
     "data": {
      "text/plain": [
       "array([list(['PlayedCardBuffMechanic']),\n",
       "       list(['PlayedCardBuffMechanic', 'pivo']), list(['nan']),\n",
       "       list(['nan'])], dtype=object)"
      ]
     },
     "execution_count": 19,
     "metadata": {},
     "output_type": "execute_result"
    }
   ],
   "source": [
    "df['mechanics_list'].apply(lambda x: str(x).split(',')).values"
   ]
  },
  {
   "cell_type": "code",
   "execution_count": 21,
   "metadata": {},
   "outputs": [
    {
     "data": {
      "text/plain": [
       "array([list(['PlayedCardBuffMechanic']),\n",
       "       list(['PlayedCardBuffMechanic', 'pivo']), list(['']), list([''])],\n",
       "      dtype=object)"
      ]
     },
     "execution_count": 21,
     "metadata": {},
     "output_type": "execute_result"
    }
   ],
   "source": [
    "df['mechanics_list'].fillna('').apply(lambda x: str(x).split(',')).values"
   ]
  },
  {
   "cell_type": "code",
   "execution_count": 5,
   "metadata": {},
   "outputs": [
    {
     "data": {
      "text/plain": [
       "mechanics_module.PlayedCardBuffMechanic"
      ]
     },
     "execution_count": 5,
     "metadata": {},
     "output_type": "execute_result"
    }
   ],
   "source": [
    "eval('PlayedCardBuffMechanic')"
   ]
  },
  {
   "attachments": {},
   "cell_type": "markdown",
   "metadata": {},
   "source": [
    "Тестирую баф карты"
   ]
  },
  {
   "cell_type": "code",
   "execution_count": 2,
   "metadata": {},
   "outputs": [],
   "source": [
    "# через Card"
   ]
  },
  {
   "cell_type": "code",
   "execution_count": 3,
   "metadata": {},
   "outputs": [
    {
     "name": "stdout",
     "output_type": "stream",
     "text": [
      "Card name: Wrath_Weaver, card attack: 1, card hp 3\n",
      "Card: Wrath_Weaver, original attack: 1, original hp 3\n",
      "Card: Wrath_Weaver, new attack: 1, new hp 4\n",
      "Card name: Wrath_Weaver, card attack: 1, card hp 4\n"
     ]
    }
   ],
   "source": [
    "# \n",
    "a = Card(card_name='Wrath_Weaver')\n",
    "print(a.card_info())            \n",
    "a.buff_card(1, 'hp')\n",
    "print(a.card_info())            "
   ]
  },
  {
   "cell_type": "code",
   "execution_count": 4,
   "metadata": {},
   "outputs": [],
   "source": [
    "# Через mechanics_module"
   ]
  },
  {
   "cell_type": "code",
   "execution_count": 3,
   "metadata": {},
   "outputs": [
    {
     "name": "stdout",
     "output_type": "stream",
     "text": [
      "Card name: Wrath_Weaver, card attack: 1, card hp 3\n",
      "Card: Wrath_Weaver, original attack: 1, original hp 3\n",
      "Card: Wrath_Weaver, new attack: 1, new hp 4\n",
      "Card: Wrath_Weaver, original attack: 1, original hp 4\n",
      "Card: Wrath_Weaver, new attack: 3, new hp 4\n"
     ]
    }
   ],
   "source": [
    "card = Card(card_name='Wrath_Weaver')\n",
    "played_card = Card(card_name='Backstage_Security')\n",
    "print(card.card_info())   \n",
    "buff_class = PlayedCardBuffMechanic(card, played_card, tavern=None)\n",
    "buff_class.trigger_buffs()\n"
   ]
  },
  {
   "cell_type": "code",
   "execution_count": 5,
   "metadata": {},
   "outputs": [
    {
     "name": "stdout",
     "output_type": "stream",
     "text": [
      "Card name: Wrath_Weaver, card attack: 1, card hp 3\n",
      "Card: Wrath_Weaver, original attack: 1, original hp 3\n",
      "Card: Wrath_Weaver, new attack: 1, new hp 4\n",
      "Card: Wrath_Weaver, original attack: 1, original hp 4\n",
      "Card: Wrath_Weaver, new attack: 3, new hp 4\n"
     ]
    }
   ],
   "source": [
    "card = Card(card_name='Wrath_Weaver')\n",
    "played_card = Card(card_name='Backstage_Security')\n",
    "print(card.card_info())  \n",
    "PlayedCardBuffMechanic(card, played_card, tavern=None).trigger_buffs()"
   ]
  },
  {
   "cell_type": "code",
   "execution_count": 2,
   "metadata": {},
   "outputs": [
    {
     "name": "stdout",
     "output_type": "stream",
     "text": [
      "Card name: Wrath_Weaver, card attack: 1, card hp 3\n",
      "Card: Wrath_Weaver, original attack: 1, original hp 3\n",
      "Card: Wrath_Weaver, new attack: 1, new hp 4\n",
      "Card: Wrath_Weaver, original attack: 1, original hp 4\n",
      "Card: Wrath_Weaver, new attack: 3, new hp 4\n"
     ]
    }
   ],
   "source": [
    "card = Card(card_name='Wrath_Weaver')\n",
    "played_card = Card(card_name='Backstage_Security')\n",
    "print(card.card_info())  \n",
    "card.trigger_buffs(played_card)\n",
    "# PlayedCardBuffMechanic(card, played_card, tavern=None).trigger_buffs()"
   ]
  },
  {
   "attachments": {},
   "cell_type": "markdown",
   "metadata": {},
   "source": [
    "## Тестирование для Fight"
   ]
  },
  {
   "cell_type": "code",
   "execution_count": 53,
   "metadata": {},
   "outputs": [
    {
     "name": "stdout",
     "output_type": "stream",
     "text": [
      "Attacking minion: Card name: Wrath_Weaver, card attack: 1, card hp 3\n",
      "Defending minion: Card name: Wrath_Weaver, card attack: 1, card hp 3\n",
      "Attacking minion stats after attack: Card name: Wrath_Weaver, card attack: 1, card hp 2\n",
      "Defending minion stats after attack: Card name: Wrath_Weaver, card attack: 1, card hp 2\n",
      "Attacking minion: Card name: Wrath_Weaver, card attack: 1, card hp 3\n",
      "Defending minion: Card name: Wrath_Weaver, card attack: 1, card hp 2\n",
      "Attacking minion stats after attack: Card name: Wrath_Weaver, card attack: 1, card hp 2\n",
      "Defending minion stats after attack: Card name: Wrath_Weaver, card attack: 1, card hp 1\n",
      "Attacking minion: Card name: Wrath_Weaver, card attack: 1, card hp 3\n",
      "Defending minion: Card name: Wrath_Weaver, card attack: 1, card hp 2\n",
      "Attacking minion stats after attack: Card name: Wrath_Weaver, card attack: 1, card hp 2\n",
      "Defending minion stats after attack: Card name: Wrath_Weaver, card attack: 1, card hp 1\n",
      "Attacking minion: Card name: Wrath_Weaver, card attack: 1, card hp 1\n",
      "Defending minion: Card name: Wrath_Weaver, card attack: 1, card hp 2\n",
      "Attacking minion stats after attack: Card name: Wrath_Weaver, card attack: 1, card hp 0\n",
      "Defending minion stats after attack: Card name: Wrath_Weaver, card attack: 1, card hp 1\n",
      "Attacking minion: Card name: Wrath_Weaver, card attack: 1, card hp 1\n",
      "Defending minion: Card name: Wrath_Weaver, card attack: 1, card hp 2\n",
      "Attacking minion stats after attack: Card name: Wrath_Weaver, card attack: 1, card hp 0\n",
      "Defending minion stats after attack: Card name: Wrath_Weaver, card attack: 1, card hp 1\n",
      "Attacking minion: Card name: Wrath_Weaver, card attack: 1, card hp 1\n",
      "Defending minion: Card name: Wrath_Weaver, card attack: 1, card hp 1\n",
      "Attacking minion stats after attack: Card name: Wrath_Weaver, card attack: 1, card hp 0\n",
      "Defending minion stats after attack: Card name: Wrath_Weaver, card attack: 1, card hp 0\n",
      "It's a tie!\n"
     ]
    }
   ],
   "source": [
    "from game_module import Game\n",
    "from card_module import Card\n",
    "# Initialize players\n",
    "game = Game()\n",
    "player1, player2 = game.create_players_taverns()\n",
    "# Create minions to players\n",
    "player1.player_board = [Card('Wrath_Weaver'), Card('Wrath_Weaver')]\n",
    "player2.player_board = [Card('Wrath_Weaver'), Card('Wrath_Weaver')]\n",
    "Fight(player1, player2).simulate()"
   ]
  },
  {
   "cell_type": "code",
   "execution_count": 9,
   "metadata": {},
   "outputs": [
    {
     "data": {
      "text/plain": [
       "[<card_module.Card at 0x1131c5d10>, <card_module.Card at 0x1131c7e10>]"
      ]
     },
     "execution_count": 9,
     "metadata": {},
     "output_type": "execute_result"
    }
   ],
   "source": [
    "player1.player_board = [Card('Wrath_Weaver'), Card('Wrath_Weaver')]\n",
    "\n",
    "player1.player_board"
   ]
  },
  {
   "attachments": {},
   "cell_type": "markdown",
   "metadata": {},
   "source": [
    "Список проблем\n",
    "\n",
    "~~Первым может атаковать игрок с меньшим количеством карт~~\n",
    "\n",
    "У обоих игроков остались карты 1-1, но первый игрок выиграл"
   ]
  },
  {
   "attachments": {},
   "cell_type": "markdown",
   "metadata": {},
   "source": [
    "Список идей\n",
    "\n",
    "Вынести определение первого, кто атакует в отедльную функцию ИЛИ Вынести определение игрока, кто атакует в отедльную функцию"
   ]
  },
  {
   "cell_type": "markdown",
   "metadata": {},
   "source": []
  }
 ],
 "metadata": {
  "kernelspec": {
   "display_name": "Python 3",
   "language": "python",
   "name": "python3"
  },
  "language_info": {
   "codemirror_mode": {
    "name": "ipython",
    "version": 3
   },
   "file_extension": ".py",
   "mimetype": "text/x-python",
   "name": "python",
   "nbconvert_exporter": "python",
   "pygments_lexer": "ipython3",
   "version": "3.11.3"
  },
  "orig_nbformat": 4
 },
 "nbformat": 4,
 "nbformat_minor": 2
}
