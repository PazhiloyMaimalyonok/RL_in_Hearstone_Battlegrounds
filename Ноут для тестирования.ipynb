{
 "cells": [
  {
   "cell_type": "code",
   "execution_count": 1,
   "metadata": {},
   "outputs": [],
   "source": [
    "# тесты\n",
    "import copy\n",
    "import random\n",
    "from game_module import Game\n",
    "import numpy as np"
   ]
  },
  {
   "cell_type": "code",
   "execution_count": 3,
   "metadata": {},
   "outputs": [],
   "source": [
    "a = [1]\n",
    "b = []\n",
    "while a and b:\n",
    "    print('cycle')\n",
    "    break"
   ]
  },
  {
   "cell_type": "code",
   "execution_count": 15,
   "metadata": {},
   "outputs": [
    {
     "ename": "AxisError",
     "evalue": "axis 3 is out of bounds for array of dimension 1",
     "output_type": "error",
     "traceback": [
      "\u001b[0;31m---------------------------------------------------------------------------\u001b[0m",
      "\u001b[0;31mAxisError\u001b[0m                                 Traceback (most recent call last)",
      "Cell \u001b[0;32mIn[15], line 2\u001b[0m\n\u001b[1;32m      1\u001b[0m \u001b[39mimport\u001b[39;00m \u001b[39mnumpy\u001b[39;00m \u001b[39mas\u001b[39;00m \u001b[39mnp\u001b[39;00m\n\u001b[0;32m----> 2\u001b[0m np\u001b[39m.\u001b[39;49margmax(\u001b[39m2\u001b[39;49m,\u001b[39m3\u001b[39;49m)\n",
      "File \u001b[0;32m/Library/Frameworks/Python.framework/Versions/3.11/lib/python3.11/site-packages/numpy/core/fromnumeric.py:1229\u001b[0m, in \u001b[0;36margmax\u001b[0;34m(a, axis, out, keepdims)\u001b[0m\n\u001b[1;32m   1142\u001b[0m \u001b[39m\u001b[39m\u001b[39m\"\"\"\u001b[39;00m\n\u001b[1;32m   1143\u001b[0m \u001b[39mReturns the indices of the maximum values along an axis.\u001b[39;00m\n\u001b[1;32m   1144\u001b[0m \n\u001b[0;32m   (...)\u001b[0m\n\u001b[1;32m   1226\u001b[0m \u001b[39m(2, 1, 4)\u001b[39;00m\n\u001b[1;32m   1227\u001b[0m \u001b[39m\"\"\"\u001b[39;00m\n\u001b[1;32m   1228\u001b[0m kwds \u001b[39m=\u001b[39m {\u001b[39m'\u001b[39m\u001b[39mkeepdims\u001b[39m\u001b[39m'\u001b[39m: keepdims} \u001b[39mif\u001b[39;00m keepdims \u001b[39mis\u001b[39;00m \u001b[39mnot\u001b[39;00m np\u001b[39m.\u001b[39m_NoValue \u001b[39melse\u001b[39;00m {}\n\u001b[0;32m-> 1229\u001b[0m \u001b[39mreturn\u001b[39;00m _wrapfunc(a, \u001b[39m'\u001b[39;49m\u001b[39margmax\u001b[39;49m\u001b[39m'\u001b[39;49m, axis\u001b[39m=\u001b[39;49maxis, out\u001b[39m=\u001b[39;49mout, \u001b[39m*\u001b[39;49m\u001b[39m*\u001b[39;49mkwds)\n",
      "File \u001b[0;32m/Library/Frameworks/Python.framework/Versions/3.11/lib/python3.11/site-packages/numpy/core/fromnumeric.py:56\u001b[0m, in \u001b[0;36m_wrapfunc\u001b[0;34m(obj, method, *args, **kwds)\u001b[0m\n\u001b[1;32m     54\u001b[0m bound \u001b[39m=\u001b[39m \u001b[39mgetattr\u001b[39m(obj, method, \u001b[39mNone\u001b[39;00m)\n\u001b[1;32m     55\u001b[0m \u001b[39mif\u001b[39;00m bound \u001b[39mis\u001b[39;00m \u001b[39mNone\u001b[39;00m:\n\u001b[0;32m---> 56\u001b[0m     \u001b[39mreturn\u001b[39;00m _wrapit(obj, method, \u001b[39m*\u001b[39;49margs, \u001b[39m*\u001b[39;49m\u001b[39m*\u001b[39;49mkwds)\n\u001b[1;32m     58\u001b[0m \u001b[39mtry\u001b[39;00m:\n\u001b[1;32m     59\u001b[0m     \u001b[39mreturn\u001b[39;00m bound(\u001b[39m*\u001b[39margs, \u001b[39m*\u001b[39m\u001b[39m*\u001b[39mkwds)\n",
      "File \u001b[0;32m/Library/Frameworks/Python.framework/Versions/3.11/lib/python3.11/site-packages/numpy/core/fromnumeric.py:45\u001b[0m, in \u001b[0;36m_wrapit\u001b[0;34m(obj, method, *args, **kwds)\u001b[0m\n\u001b[1;32m     43\u001b[0m \u001b[39mexcept\u001b[39;00m \u001b[39mAttributeError\u001b[39;00m:\n\u001b[1;32m     44\u001b[0m     wrap \u001b[39m=\u001b[39m \u001b[39mNone\u001b[39;00m\n\u001b[0;32m---> 45\u001b[0m result \u001b[39m=\u001b[39m \u001b[39mgetattr\u001b[39;49m(asarray(obj), method)(\u001b[39m*\u001b[39;49margs, \u001b[39m*\u001b[39;49m\u001b[39m*\u001b[39;49mkwds)\n\u001b[1;32m     46\u001b[0m \u001b[39mif\u001b[39;00m wrap:\n\u001b[1;32m     47\u001b[0m     \u001b[39mif\u001b[39;00m \u001b[39mnot\u001b[39;00m \u001b[39misinstance\u001b[39m(result, mu\u001b[39m.\u001b[39mndarray):\n",
      "\u001b[0;31mAxisError\u001b[0m: axis 3 is out of bounds for array of dimension 1"
     ]
    }
   ],
   "source": [
    "import numpy as np\n",
    "np.argmax(2,3)"
   ]
  },
  {
   "cell_type": "code",
   "execution_count": 16,
   "metadata": {},
   "outputs": [],
   "source": [
    "class Fight:\n",
    "    def __init__(self, first_player, second_player):\n",
    "        self.first_player = first_player\n",
    "        self.second_player = second_player\n",
    "        self.first_player_board = [copy.deepcopy(minion) for minion in first_player.player_board]\n",
    "        self.second_player_board = [copy.deepcopy(minion) for minion in second_player.player_board]\n",
    "\n",
    "    def simulate(self):\n",
    "        # Решаю, кто первый будет атаковая. Задача каунтера -- передавать инициативу атаки от одного другому\n",
    "        len_first_board = len(self.first_player_board)\n",
    "        len_second_board = len(self.second_player_board)\n",
    "        if len_first_board == len_second_board:\n",
    "            counter = random.randint(0, 1)\n",
    "        else:\n",
    "            counter = np.argmax([len_first_board, len_second_board])\n",
    "        # Мб вынести определения, кто первый атакует или вообще определение кто в принципе атакует в отедльную функцию\n",
    "        while self.first_player_board and self.second_player_board:\n",
    "            if counter % 2 == 0:\n",
    "                self.attack(self.first_player_board, self.second_player_board)\n",
    "            else:\n",
    "                self.attack(self.second_player_board, self.first_player_board)\n",
    "            counter += 1\n",
    "\n",
    "        self.determine_winner()\n",
    "\n",
    "    def attack(self, attacking_board, defending_board):\n",
    "        if not attacking_board:\n",
    "            attacking_board = self.first_player_board if attacking_board == self.first_player_board else self.second_player_board\n",
    "        if not defending_board:\n",
    "            defending_board = self.first_player_board if defending_board == self.first_player_board else self.second_player_board\n",
    "\n",
    "        attacking_minion = attacking_board.pop(0)\n",
    "        defending_minion = random.choice(defending_board)\n",
    "\n",
    "        print(f\"Attacking minion: {attacking_minion.card_info()}\")\n",
    "        print(f\"Defending minion: {defending_minion.card_info()}\")\n",
    "\n",
    "        self.resolve_attack(attacking_minion, defending_minion)\n",
    "\n",
    "        print(f\"Attacking minion stats after attack: {attacking_minion.card_info()}\")\n",
    "        print(f\"Defending minion stats after attack: {defending_minion.card_info()}\")\n",
    "\n",
    "    def resolve_attack(self, attacking_minion, defending_minion):\n",
    "        attacking_minion.hp -= defending_minion.attack\n",
    "        defending_minion.hp -= attacking_minion.attack\n",
    "\n",
    "        if attacking_minion.hp <= 0:\n",
    "            self.remove_minion(attacking_minion)\n",
    "        if defending_minion.hp <= 0:\n",
    "            self.remove_minion(defending_minion)\n",
    "\n",
    "    def remove_minion(self, minion):\n",
    "        if minion in self.first_player_board:\n",
    "            self.first_player_board.remove(minion)\n",
    "        elif minion in self.second_player_board:\n",
    "            self.second_player_board.remove(minion)\n",
    "\n",
    "    def determine_winner(self):\n",
    "        if self.first_player_board and not self.second_player_board:\n",
    "            print(f\"Player {self.first_player.player_name} wins!\")\n",
    "            return 0, sum([minion.tavern_level for minion in self.first_player_board]) + self.first_player.level\n",
    "        elif self.second_player_board and not self.first_player_board:\n",
    "            print(f\"Player {self.second_player.player_name} wins!\")\n",
    "            return 1, sum([minion.tavern_level for minion in self.second_player_board]) + self.second_player.level\n",
    "        else:\n",
    "            print(\"It's a tie!\")\n",
    "            return -1, 0"
   ]
  },
  {
   "cell_type": "code",
   "execution_count": null,
   "metadata": {},
   "outputs": [],
   "source": [
    "# Попытка использовать отдельно использовать два борда и два стака для аттак"
   ]
  },
  {
   "cell_type": "code",
   "execution_count": 39,
   "metadata": {},
   "outputs": [
    {
     "ename": "AttributeError",
     "evalue": "'list' object has no attribute 'find'",
     "output_type": "error",
     "traceback": [
      "\u001b[0;31m---------------------------------------------------------------------------\u001b[0m",
      "\u001b[0;31mAttributeError\u001b[0m                            Traceback (most recent call last)",
      "Cell \u001b[0;32mIn[39], line 2\u001b[0m\n\u001b[1;32m      1\u001b[0m a \u001b[39m=\u001b[39m [\u001b[39m1\u001b[39m,\u001b[39m2\u001b[39m,\u001b[39m3\u001b[39m]\n\u001b[0;32m----> 2\u001b[0m a\u001b[39m.\u001b[39;49mfind(\u001b[39m2\u001b[39m)\n",
      "\u001b[0;31mAttributeError\u001b[0m: 'list' object has no attribute 'find'"
     ]
    }
   ],
   "source": [
    "a = [1,2,3]\n",
    "a.find(2)"
   ]
  },
  {
   "cell_type": "code",
   "execution_count": 50,
   "metadata": {},
   "outputs": [],
   "source": [
    "class Fight:\n",
    "    def __init__(self, first_player, second_player):\n",
    "        self.first_player = first_player\n",
    "        self.second_player = second_player\n",
    "        self.first_player_board = [copy.deepcopy(minion) for minion in first_player.player_board]\n",
    "        self.second_player_board = [copy.deepcopy(minion) for minion in second_player.player_board]\n",
    "        self.first_player_attacking_order = self.first_player_board\n",
    "        self.second_player_attacking_order = self.second_player_board\n",
    "\n",
    "    def simulate(self):\n",
    "        # Решаю, кто первый будет атаковая. Задача каунтера -- передавать инициативу атаки от одного другому\n",
    "        len_first_board = len(self.first_player_board)\n",
    "        len_second_board = len(self.second_player_board)\n",
    "        if len_first_board == len_second_board:\n",
    "            counter = random.randint(0, 1)\n",
    "        else:\n",
    "            counter = np.argmax([len_first_board, len_second_board])\n",
    "        # Мб вынести определения, кто первый атакует или вообще определение кто в принципе атакует в отедльную функцию\n",
    "        while self.first_player_board and self.second_player_board:\n",
    "            if counter % 2 == 0:\n",
    "                self.attack(self.first_player_attacking_order, self.second_player_board)\n",
    "            else:\n",
    "                self.attack(self.second_player_attacking_order, self.first_player_board)\n",
    "            counter += 1\n",
    "\n",
    "        self.determine_winner()\n",
    "\n",
    "    def attack(self, attacking_order, defending_board):\n",
    "        attacking_minion = attacking_order.pop(0)\n",
    "        defending_minion = random.choice(defending_board)\n",
    "\n",
    "        print(f\"Attacking minion: {attacking_minion.card_info()}\")\n",
    "        print(f\"Defending minion: {defending_minion.card_info()}\")\n",
    "\n",
    "        self.resolve_attack(attacking_minion, defending_minion)\n",
    "\n",
    "        print(f\"Attacking minion stats after attack: {attacking_minion.card_info()}\")\n",
    "        print(f\"Defending minion stats after attack: {defending_minion.card_info()}\")\n",
    "\n",
    "        # Добавляю существо в конец очереди атаки, если он не умер\n",
    "        if attacking_minion.hp > 0:\n",
    "            attacking_order.append(attacking_minion)\n",
    "        \n",
    "    def resolve_attack(self, attacking_minion, defending_minion):\n",
    "        attacking_minion.hp -= defending_minion.attack\n",
    "        \n",
    "        defending_minion.hp -= attacking_minion.attack\n",
    "\n",
    "        if attacking_minion.hp <= 0:\n",
    "            self.remove_minion(attacking_minion)\n",
    "        if defending_minion.hp <= 0:\n",
    "            self.remove_minion(defending_minion)\n",
    "\n",
    "    def remove_minion(self, minion):\n",
    "        if minion in self.first_player_board:\n",
    "            self.first_player_board.remove(minion)\n",
    "            # self.first_player_attacking_order.remove(minion)\n",
    "        elif minion in self.second_player_board:\n",
    "            self.second_player_board.remove(minion)\n",
    "            # self.second_player_attacking_order.remove(minion)\n",
    "\n",
    "    def determine_winner(self):\n",
    "        if self.first_player_board and not self.second_player_board:\n",
    "            print(f\"Player {self.first_player.player_name} wins!\")\n",
    "            return 0, sum([minion.tavern_level for minion in self.first_player_board]) + self.first_player.level\n",
    "        elif self.second_player_board and not self.first_player_board:\n",
    "            print(f\"Player {self.second_player.player_name} wins!\")\n",
    "            return 1, sum([minion.tavern_level for minion in self.second_player_board]) + self.second_player.level\n",
    "        else:\n",
    "            print(\"It's a tie!\")\n",
    "            return -1, 0"
   ]
  },
  {
   "attachments": {},
   "cell_type": "markdown",
   "metadata": {},
   "source": [
    "## Тестирование для Fight"
   ]
  },
  {
   "cell_type": "code",
   "execution_count": 53,
   "metadata": {},
   "outputs": [
    {
     "name": "stdout",
     "output_type": "stream",
     "text": [
      "Attacking minion: Card name: Wrath_Weaver, card attack: 1, card hp 3\n",
      "Defending minion: Card name: Wrath_Weaver, card attack: 1, card hp 3\n",
      "Attacking minion stats after attack: Card name: Wrath_Weaver, card attack: 1, card hp 2\n",
      "Defending minion stats after attack: Card name: Wrath_Weaver, card attack: 1, card hp 2\n",
      "Attacking minion: Card name: Wrath_Weaver, card attack: 1, card hp 3\n",
      "Defending minion: Card name: Wrath_Weaver, card attack: 1, card hp 2\n",
      "Attacking minion stats after attack: Card name: Wrath_Weaver, card attack: 1, card hp 2\n",
      "Defending minion stats after attack: Card name: Wrath_Weaver, card attack: 1, card hp 1\n",
      "Attacking minion: Card name: Wrath_Weaver, card attack: 1, card hp 3\n",
      "Defending minion: Card name: Wrath_Weaver, card attack: 1, card hp 2\n",
      "Attacking minion stats after attack: Card name: Wrath_Weaver, card attack: 1, card hp 2\n",
      "Defending minion stats after attack: Card name: Wrath_Weaver, card attack: 1, card hp 1\n",
      "Attacking minion: Card name: Wrath_Weaver, card attack: 1, card hp 1\n",
      "Defending minion: Card name: Wrath_Weaver, card attack: 1, card hp 2\n",
      "Attacking minion stats after attack: Card name: Wrath_Weaver, card attack: 1, card hp 0\n",
      "Defending minion stats after attack: Card name: Wrath_Weaver, card attack: 1, card hp 1\n",
      "Attacking minion: Card name: Wrath_Weaver, card attack: 1, card hp 1\n",
      "Defending minion: Card name: Wrath_Weaver, card attack: 1, card hp 2\n",
      "Attacking minion stats after attack: Card name: Wrath_Weaver, card attack: 1, card hp 0\n",
      "Defending minion stats after attack: Card name: Wrath_Weaver, card attack: 1, card hp 1\n",
      "Attacking minion: Card name: Wrath_Weaver, card attack: 1, card hp 1\n",
      "Defending minion: Card name: Wrath_Weaver, card attack: 1, card hp 1\n",
      "Attacking minion stats after attack: Card name: Wrath_Weaver, card attack: 1, card hp 0\n",
      "Defending minion stats after attack: Card name: Wrath_Weaver, card attack: 1, card hp 0\n",
      "It's a tie!\n"
     ]
    }
   ],
   "source": [
    "from game_module import Game\n",
    "from card_module import Card\n",
    "# Initialize players\n",
    "game = Game()\n",
    "player1, player2 = game.create_players_taverns()\n",
    "# Create minions to players\n",
    "player1.player_board = [Card('Wrath_Weaver'), Card('Wrath_Weaver')]\n",
    "player2.player_board = [Card('Wrath_Weaver'), Card('Wrath_Weaver')]\n",
    "Fight(player1, player2).simulate()"
   ]
  },
  {
   "cell_type": "code",
   "execution_count": 9,
   "metadata": {},
   "outputs": [
    {
     "data": {
      "text/plain": [
       "[<card_module.Card at 0x1131c5d10>, <card_module.Card at 0x1131c7e10>]"
      ]
     },
     "execution_count": 9,
     "metadata": {},
     "output_type": "execute_result"
    }
   ],
   "source": [
    "player1.player_board = [Card('Wrath_Weaver'), Card('Wrath_Weaver')]\n",
    "\n",
    "player1.player_board"
   ]
  },
  {
   "attachments": {},
   "cell_type": "markdown",
   "metadata": {},
   "source": [
    "Список проблем\n",
    "\n",
    "~~Первым может атаковать игрок с меньшим количеством карт~~\n",
    "\n",
    "У обоих игроков остались карты 1-1, но первый игрок выиграл"
   ]
  },
  {
   "attachments": {},
   "cell_type": "markdown",
   "metadata": {},
   "source": [
    "Список идей\n",
    "\n",
    "Вынести определение первого, кто атакует в отедльную функцию ИЛИ Вынести определение игрока, кто атакует в отедльную функцию"
   ]
  },
  {
   "cell_type": "markdown",
   "metadata": {},
   "source": []
  }
 ],
 "metadata": {
  "kernelspec": {
   "display_name": "Python 3",
   "language": "python",
   "name": "python3"
  },
  "language_info": {
   "codemirror_mode": {
    "name": "ipython",
    "version": 3
   },
   "file_extension": ".py",
   "mimetype": "text/x-python",
   "name": "python",
   "nbconvert_exporter": "python",
   "pygments_lexer": "ipython3",
   "version": "3.11.3"
  },
  "orig_nbformat": 4
 },
 "nbformat": 4,
 "nbformat_minor": 2
}
