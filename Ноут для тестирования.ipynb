{
 "cells": [
  {
   "cell_type": "code",
   "execution_count": 3,
   "metadata": {},
   "outputs": [],
   "source": [
    "# тесты\n",
    "import copy\n",
    "import random\n",
    "from game_module import Game\n",
    "import numpy as np\n",
    "from card_module import Card\n",
    "from mechanics_module import Mechanics, PlayedCardBuffMechanic"
   ]
  },
  {
   "attachments": {},
   "cell_type": "markdown",
   "metadata": {},
   "source": [
    "Тестирую баф карты"
   ]
  },
  {
   "cell_type": "code",
   "execution_count": 2,
   "metadata": {},
   "outputs": [],
   "source": [
    "# через Card"
   ]
  },
  {
   "cell_type": "code",
   "execution_count": 3,
   "metadata": {},
   "outputs": [
    {
     "name": "stdout",
     "output_type": "stream",
     "text": [
      "Card name: Wrath_Weaver, card attack: 1, card hp 3\n",
      "Card: Wrath_Weaver, original attack: 1, original hp 3\n",
      "Card: Wrath_Weaver, new attack: 1, new hp 4\n",
      "Card name: Wrath_Weaver, card attack: 1, card hp 4\n"
     ]
    }
   ],
   "source": [
    "# \n",
    "a = Card(card_name='Wrath_Weaver')\n",
    "print(a.card_info())            \n",
    "a.buff_card(1, 'hp')\n",
    "print(a.card_info())            "
   ]
  },
  {
   "cell_type": "code",
   "execution_count": 4,
   "metadata": {},
   "outputs": [],
   "source": [
    "# Через mechanics_module"
   ]
  },
  {
   "cell_type": "code",
   "execution_count": 10,
   "metadata": {},
   "outputs": [
    {
     "name": "stdout",
     "output_type": "stream",
     "text": [
      "Card name: Wrath_Weaver, card attack: 1, card hp 3\n",
      "Card: Wrath_Weaver, original attack: 1, original hp 3\n",
      "Card: Wrath_Weaver, new attack: 1, new hp 4\n",
      "Card: Wrath_Weaver, original attack: 1, original hp 4\n",
      "Card: Wrath_Weaver, new attack: 3, new hp 4\n"
     ]
    }
   ],
   "source": [
    "card = Card(card_name='Wrath_Weaver')\n",
    "played_card = Card(card_name='Backstage_Security')\n",
    "print(card.card_info())   \n",
    "buff_class = PlayedCardBuffMechanic(card, played_card, '1/4 wraith weaver buff', tavern=None)\n",
    "buff_class.call_buffs()\n"
   ]
  },
  {
   "attachments": {},
   "cell_type": "markdown",
   "metadata": {},
   "source": [
    "## Тестирование для Fight"
   ]
  },
  {
   "cell_type": "code",
   "execution_count": 53,
   "metadata": {},
   "outputs": [
    {
     "name": "stdout",
     "output_type": "stream",
     "text": [
      "Attacking minion: Card name: Wrath_Weaver, card attack: 1, card hp 3\n",
      "Defending minion: Card name: Wrath_Weaver, card attack: 1, card hp 3\n",
      "Attacking minion stats after attack: Card name: Wrath_Weaver, card attack: 1, card hp 2\n",
      "Defending minion stats after attack: Card name: Wrath_Weaver, card attack: 1, card hp 2\n",
      "Attacking minion: Card name: Wrath_Weaver, card attack: 1, card hp 3\n",
      "Defending minion: Card name: Wrath_Weaver, card attack: 1, card hp 2\n",
      "Attacking minion stats after attack: Card name: Wrath_Weaver, card attack: 1, card hp 2\n",
      "Defending minion stats after attack: Card name: Wrath_Weaver, card attack: 1, card hp 1\n",
      "Attacking minion: Card name: Wrath_Weaver, card attack: 1, card hp 3\n",
      "Defending minion: Card name: Wrath_Weaver, card attack: 1, card hp 2\n",
      "Attacking minion stats after attack: Card name: Wrath_Weaver, card attack: 1, card hp 2\n",
      "Defending minion stats after attack: Card name: Wrath_Weaver, card attack: 1, card hp 1\n",
      "Attacking minion: Card name: Wrath_Weaver, card attack: 1, card hp 1\n",
      "Defending minion: Card name: Wrath_Weaver, card attack: 1, card hp 2\n",
      "Attacking minion stats after attack: Card name: Wrath_Weaver, card attack: 1, card hp 0\n",
      "Defending minion stats after attack: Card name: Wrath_Weaver, card attack: 1, card hp 1\n",
      "Attacking minion: Card name: Wrath_Weaver, card attack: 1, card hp 1\n",
      "Defending minion: Card name: Wrath_Weaver, card attack: 1, card hp 2\n",
      "Attacking minion stats after attack: Card name: Wrath_Weaver, card attack: 1, card hp 0\n",
      "Defending minion stats after attack: Card name: Wrath_Weaver, card attack: 1, card hp 1\n",
      "Attacking minion: Card name: Wrath_Weaver, card attack: 1, card hp 1\n",
      "Defending minion: Card name: Wrath_Weaver, card attack: 1, card hp 1\n",
      "Attacking minion stats after attack: Card name: Wrath_Weaver, card attack: 1, card hp 0\n",
      "Defending minion stats after attack: Card name: Wrath_Weaver, card attack: 1, card hp 0\n",
      "It's a tie!\n"
     ]
    }
   ],
   "source": [
    "from game_module import Game\n",
    "from card_module import Card\n",
    "# Initialize players\n",
    "game = Game()\n",
    "player1, player2 = game.create_players_taverns()\n",
    "# Create minions to players\n",
    "player1.player_board = [Card('Wrath_Weaver'), Card('Wrath_Weaver')]\n",
    "player2.player_board = [Card('Wrath_Weaver'), Card('Wrath_Weaver')]\n",
    "Fight(player1, player2).simulate()"
   ]
  },
  {
   "cell_type": "code",
   "execution_count": 9,
   "metadata": {},
   "outputs": [
    {
     "data": {
      "text/plain": [
       "[<card_module.Card at 0x1131c5d10>, <card_module.Card at 0x1131c7e10>]"
      ]
     },
     "execution_count": 9,
     "metadata": {},
     "output_type": "execute_result"
    }
   ],
   "source": [
    "player1.player_board = [Card('Wrath_Weaver'), Card('Wrath_Weaver')]\n",
    "\n",
    "player1.player_board"
   ]
  },
  {
   "attachments": {},
   "cell_type": "markdown",
   "metadata": {},
   "source": [
    "Список проблем\n",
    "\n",
    "~~Первым может атаковать игрок с меньшим количеством карт~~\n",
    "\n",
    "У обоих игроков остались карты 1-1, но первый игрок выиграл"
   ]
  },
  {
   "attachments": {},
   "cell_type": "markdown",
   "metadata": {},
   "source": [
    "Список идей\n",
    "\n",
    "Вынести определение первого, кто атакует в отедльную функцию ИЛИ Вынести определение игрока, кто атакует в отедльную функцию"
   ]
  },
  {
   "cell_type": "markdown",
   "metadata": {},
   "source": []
  }
 ],
 "metadata": {
  "kernelspec": {
   "display_name": "Python 3",
   "language": "python",
   "name": "python3"
  },
  "language_info": {
   "codemirror_mode": {
    "name": "ipython",
    "version": 3
   },
   "file_extension": ".py",
   "mimetype": "text/x-python",
   "name": "python",
   "nbconvert_exporter": "python",
   "pygments_lexer": "ipython3",
   "version": "3.11.3"
  },
  "orig_nbformat": 4
 },
 "nbformat": 4,
 "nbformat_minor": 2
}
